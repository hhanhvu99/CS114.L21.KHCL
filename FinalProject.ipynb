{
  "nbformat": 4,
  "nbformat_minor": 0,
  "metadata": {
    "colab": {
      "name": "FinalProject.ipynb",
      "provenance": [],
      "collapsed_sections": [],
      "include_colab_link": true
    },
    "kernelspec": {
      "name": "python3",
      "display_name": "Python 3"
    },
    "language_info": {
      "name": "python"
    }
  },
  "cells": [
    {
      "cell_type": "markdown",
      "metadata": {
        "id": "view-in-github",
        "colab_type": "text"
      },
      "source": [
        "<a href=\"https://colab.research.google.com/github/hhanhvu99/CS114.L21.KHCL/blob/main/FinalProject.ipynb\" target=\"_parent\"><img src=\"https://colab.research.google.com/assets/colab-badge.svg\" alt=\"Open In Colab\"/></a>"
      ]
    },
    {
      "cell_type": "markdown",
      "metadata": {
        "id": "oSONXeorym6Q"
      },
      "source": [
        "# ***Phát hiện ổ gà, ổ vịt trên đường.***"
      ]
    },
    {
      "cell_type": "markdown",
      "metadata": {
        "id": "lkTNjBAhVWrD"
      },
      "source": [
        "**1. Giới thiệu bài toán**\n",
        "\n",
        "Những ai từng đi xe máy không ít thì nhiều cũng gặp ổ gà ổ vịt trên đường, nhất là trong mùa mưa này khi mà đường bị sụp lún rất nhiều, dễ gây ra nguy hiểm nếu chúng ta không để ý. \n",
        "\n",
        "Nên nhóm chọn đồ án này với hy vọng xây dựng ra một model máy học giúp xác định chính xác vị trí các ổ gà, ổ vịt trên đường, và từ model này nhóm hy vọng sẽ góp phần trong việc tạo ra một ứng dụng giúp cảnh báo người dùng về các ổ gà ổ vịt ở phía trước, giúp giảm thiểu nguy cơ xảy ra tai nạn, hoặc hy vọng model sẽ được ứng dụng trong xe tự hành."
      ]
    },
    {
      "cell_type": "markdown",
      "metadata": {
        "id": "EUoO0BfnMa1D"
      },
      "source": [
        "**2. Mô tả bài toán**\n",
        "+ **Input**: một hình ảnh RGB hoặc một đoạn video stream trực tiếp từ điện thoại, có chứa một hoặc nhiều con đường chỉ có đường đất và đường nhựa, ngoài ra không tính các đường nào khác. Con đường có thể chứa ổ gà ổ vịt hoặc không. Điều kiện tối thiểu phải nhìn được 2m trước mặt. Góc thu nhận hình ảnh (chụp hoặc stream video) nằm trong khoảng từ 30 độ đến 60 độ lấy đầu người nhìn thẳng làm chuẩn (xem hình để hiểu rõ)\n",
        "+ **Output**: một tập D các prediction của model gồm (c<sub>i</sub>, l<sub>i</sub>, x<sub>i</sub>, y<sub>i</sub>, w<sub>i</sub>, h<sub>i</sub>) với i chạy từ 1 tới D. Trong đó:\n",
        "\n",
        "    **c<sub>i</sub>** là mức độ tự tin của model cho prediction này\n",
        "\n",
        "    **l<sub>i</sub>** là nhãn cho prediction này\n",
        "\n",
        "    **x<sub>i</sub>**, **y<sub>i</sub>** là center của Bounding Box trong ảnh\n",
        "\n",
        "    **w<sub>i</sub>**, **h<sub>i</sub>** là chiều dài và chiều rộng của Bounding Box\n",
        "\n",
        "+ **Số nhãn** trong model có 3 nhãn dự kiến là ổ gà, ổ vịt và ổ voi. Đường được coi là có 3 loại ổ trên khi trên đường có chỗ bị thủng lỗ. Tiêu chuẩn dự kiến của nhóm trong việc phân loại là: ổ gà có lỗ với đường kính là khoảng 30 cm trở xuống, ổ vịt có lỗ với đường kính là khoảng 30 cm đến khoảng 60 cm, và từ khoảng 60 cm trở lên được xem là ổ voi. Tiêu chuẩn và số nhãn có thể thay đổi tùy thuộc vào bộ data mà nhóm thu thập.\n"
      ]
    },
    {
      "cell_type": "markdown",
      "metadata": {
        "id": "p2cKSiTuMdcG"
      },
      "source": [
        "**3. Mô tả về bộ dữ liệu**\n",
        "\n",
        "3.1 Cách thức xây dựng bộ dữ liệu:\n",
        "\n",
        "- Toàn bộ dataset sẽ được nhóm chụp và gán nhãn cho từng ảnh. Nhóm sẽ dùng điện thoại để chụp ảnh các con đường. Góc chụp và điều kiện chụp giống phần Mô tả bài toán.\n",
        "- Về vị trí chụp nhóm dự kiến chụp con đường và hẻm ở làng đại học, đường quốc lộ 1A, các con đường nhỏ gần nhà các thành viên trong nhóm. \n",
        "- Nhóm dự kiến dùng bộ công cụ LabelImg trên GitHub (https://github.com/tzutalin/labelImg) của tác giả darrenl để gán nhãn và dùng đoạn code từ GitHub (https://github.com/skanelo/Face-Mask-Detection/blob/main/xml_to_yolo.py) của tác giả Stefanos Kanellopoulos để tách các chuyển label từ định dạng xml sang định dạng YOLO.\n"
      ]
    }
  ]
}
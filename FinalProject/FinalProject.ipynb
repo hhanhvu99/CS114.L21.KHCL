{
  "nbformat": 4,
  "nbformat_minor": 0,
  "metadata": {
    "colab": {
      "name": "FinalProject.ipynb",
      "provenance": []
    },
    "kernelspec": {
      "name": "python3",
      "display_name": "Python 3"
    },
    "language_info": {
      "name": "python"
    }
  },
  "cells": [
    {
      "cell_type": "markdown",
      "metadata": {
        "id": "axWgv6hVvyU2"
      },
      "source": [
        "Đồ án nhận diện khuôn mặt đeo khẩu trang\n"
      ]
    },
    {
      "cell_type": "code",
      "metadata": {
        "id": "D7FJMClLv4Ac"
      },
      "source": [
        ""
      ],
      "execution_count": null,
      "outputs": []
    }
  ]
}